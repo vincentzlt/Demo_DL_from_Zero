{
 "cells": [
  {
   "cell_type": "code",
   "execution_count": 20,
   "metadata": {
    "collapsed": true
   },
   "outputs": [],
   "source": [
    "class Perceptron():\n",
    "    #目标：求weights\n",
    "    def __init__(self, num_neurons,func_activate): \n",
    "        #初始化，接受：神经元数量，激活函数；设定：weights，bias_weight\n",
    "        self.num_neurons=num_neurons\n",
    "        self.func_activate=func_activate\n",
    "        self.weights=[0.0 for _ in range(num_neurons)]\n",
    "        self.bias_weight=0.0\n",
    "    def __str__(self):\n",
    "        #打印权重\n",
    "        return '权重：\\n{}\\nBias Weight：{}'.format(self.weights,self.bias_weight)\n",
    "    def predict(self,input_vec):\n",
    "        #根据输入和权重输出预测值\n",
    "        sum_weights=sum([w*x for w, x in zip(self.weights,input_vec)])+self.bias_weight\n",
    "        output=self.func_activate(sum_weights)\n",
    "        return output\n",
    "    def train(self, input_vecs, labels, num_iter, reduce_rate):\n",
    "        #设定循环次数\n",
    "        for _ in range(num_iter):\n",
    "            self._do_single_update_weight(input_vecs,labels,reduce_rate)\n",
    "    def _do_single_update_weight(self,input_vecs,labels,reduce_rate):\n",
    "        #单次循环修改权重\n",
    "        for input_vec,label in zip(input_vecs,labels):\n",
    "            output=self.predict(input_vec)\n",
    "            delta=label-output\n",
    "            self.bias_weight+=reduce_rate*delta\n",
    "            new_weights=[] #单独定义new_weights，之后将self。weight用这个数组更新\n",
    "            for _w,_x in zip(self.weights,input_vec):\n",
    "                _w+=reduce_rate*delta*_x\n",
    "                new_weights.append(_w)\n",
    "            self.weights=new_weights"
   ]
  },
  {
   "cell_type": "code",
   "execution_count": 26,
   "metadata": {
    "collapsed": false
   },
   "outputs": [
    {
     "name": "stdout",
     "output_type": "stream",
     "text": [
      "权重：\n",
      "[0.4, 0.013999999999999568]\n",
      "Bias Weight：-0.20000000000000004\n"
     ]
    },
    {
     "data": {
      "text/plain": [
       "0"
      ]
     },
     "execution_count": 26,
     "metadata": {},
     "output_type": "execute_result"
    }
   ],
   "source": [
    "def func_activate(x):\n",
    "    return 1 if x>0 else 0\n",
    "\n",
    "def get_training_data():\n",
    "    vecs=[[1,1], [0,0], [1,0], [0,1],[1,2],[2,2],[3,1],[1,3],[0,3.01],[0,2.99],\n",
    "         ]\n",
    "    labels=[0, 0, 0, 0,1,1,1,1,1,0]\n",
    "    return vecs,labels\n",
    "\n",
    "def train_perceptron():\n",
    "    vecs,labels=get_training_data()\n",
    "    p=Perceptron(len(vecs[0]),func_activate)\n",
    "    p.train(vecs,labels,10,0.1)\n",
    "    return p\n",
    "\n",
    "and_perceptron=train_perceptron()\n",
    "print(and_perceptron)\n",
    "and_perceptron.predict([0.3,2])\n",
    "    "
   ]
  },
  {
   "cell_type": "code",
   "execution_count": null,
   "metadata": {
    "collapsed": true
   },
   "outputs": [],
   "source": []
  }
 ],
 "metadata": {
  "kernelspec": {
   "display_name": "Python 3",
   "language": "python",
   "name": "python3"
  },
  "language_info": {
   "codemirror_mode": {
    "name": "ipython",
    "version": 3
   },
   "file_extension": ".py",
   "mimetype": "text/x-python",
   "name": "python",
   "nbconvert_exporter": "python",
   "pygments_lexer": "ipython3",
   "version": "3.6.0"
  }
 },
 "nbformat": 4,
 "nbformat_minor": 2
}

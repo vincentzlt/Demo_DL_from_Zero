{
 "cells": [
  {
   "cell_type": "code",
   "execution_count": 23,
   "metadata": {
    "collapsed": true
   },
   "outputs": [],
   "source": [
    "class Perceptron():\n",
    "    def __init__(self, input_num, activator):\n",
    "        '''初始化感知器，设置输入参数个数以及激活函数\n",
    "        激活函数类型为double->double\n",
    "        '''\n",
    "        self.activator=activator\n",
    "        self.weights=[0.0 for _ in range(input_num)] #初始化权重\n",
    "        self.bias=0.0 #初始化bias\n",
    "    \n",
    "    def __str__(self):\n",
    "        '''打印学习到的权重和bias'''\n",
    "        return '权重：\\n{}\\nbias：\\n{}\\n'.format(self.weights,self.bias)\n",
    "    def predict(self,input_vec):\n",
    "        '''输入向量，输入感知器计算结果'''\n",
    "        \n",
    "        return sum([w*v for w,v in zip(self.weights,input_vec)])+self.bias\n",
    "    \n",
    "    def train(self, input_vecs,labels, iteration, rate):\n",
    "        '''输入训练数据：向量，label，训练次数，学习率'''\n",
    "        for i in range(iteration):\n",
    "            self._one_iteration(input_vecs,labels,rate)\n",
    "    def _one_iteration(self,input_vecs,labels,rate):\n",
    "        '''一次迭代'''\n",
    "        for input_vec, label in zip(input_vecs,labels):\n",
    "            output=self.predict(input_vec)\n",
    "            self._update_weights(input_vec,output,label,rate)\n",
    "    def _update_weights(self,input_vec,output,label,rate):\n",
    "        '''感知器权重更新'''\n",
    "        d=label-output\n",
    "        self.weights=[weight+rate*d*vec_dem for vec_dem,weight in zip(input_vec,self.weights)]\n",
    "        self.bias+=d*rate"
   ]
  },
  {
   "cell_type": "code",
   "execution_count": 24,
   "metadata": {
    "collapsed": false
   },
   "outputs": [
    {
     "name": "stdout",
     "output_type": "stream",
     "text": [
      "权重：\n",
      "[0.29775092853237745, 0.3185403138230997]\n",
      "bias：\n",
      "-0.068792100775109\n",
      "\n"
     ]
    },
    {
     "data": {
      "text/plain": [
       "0.24974821304799072"
      ]
     },
     "execution_count": 24,
     "metadata": {},
     "output_type": "execute_result"
    }
   ],
   "source": [
    "def f(x):\n",
    "    '''激活函数'''\n",
    "    return 1 if x>0 else 0\n",
    "\n",
    "def get_training_data():\n",
    "    '''输入数据'''\n",
    "    input_vecs=[[1,1], [0,0], [1,0], [0,1]]\n",
    "    labels=[1,0,0,0]\n",
    "    return input_vecs,labels\n",
    "\n",
    "def train_perceptron():\n",
    "    p=Perceptron(2,f)\n",
    "    input_vecs,labels=get_training_data()\n",
    "    p.train(input_vecs,labels,10,0.1)\n",
    "    return p\n",
    "\n",
    "and_perceptron=train_perceptron()\n",
    "\n",
    "print(and_perceptron)\n",
    "and_perceptron.predict([0,1])"
   ]
  },
  {
   "cell_type": "code",
   "execution_count": null,
   "metadata": {
    "collapsed": true
   },
   "outputs": [],
   "source": []
  }
 ],
 "metadata": {
  "kernelspec": {
   "display_name": "Python 3",
   "language": "python",
   "name": "python3"
  },
  "language_info": {
   "codemirror_mode": {
    "name": "ipython",
    "version": 3
   },
   "file_extension": ".py",
   "mimetype": "text/x-python",
   "name": "python",
   "nbconvert_exporter": "python",
   "pygments_lexer": "ipython3",
   "version": "3.5.2"
  }
 },
 "nbformat": 4,
 "nbformat_minor": 2
}
